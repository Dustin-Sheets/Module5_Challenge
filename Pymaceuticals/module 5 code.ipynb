{
 "cells": [
  {
   "cell_type": "markdown",
   "id": "812a5e20",
   "metadata": {},
   "source": [
    "# Analysis"
   ]
  },
  {
   "cell_type": "code",
   "execution_count": null,
   "id": "8fe08863",
   "metadata": {},
   "outputs": [],
   "source": [
    "\"\"\"\n",
    "With thess calclulations we can see a few things about the drugs, there effect on tumor size over time, and the relationship\n",
    "between weight and tumor size.\n",
    "\n",
    "You can see from the bar and pie charts that we have many data points for many mice for each drug, and almost equal amount of\n",
    "male and female mice in the tests.\n",
    "\n",
    "Capomulin has the lowest average and lowest deviation out of all drugs used when measureing tumor size. This would imply that\n",
    "it is most succsessful at decreasing the volume of the tumors in mice.\n",
    "\n",
    "looking at mouse(s185) you can see the tumor volume decreaseing over time while being treated with Capomulin\n",
    "\n",
    "we can find a corralation positive correlation between average weight and average tumor volume with a Pvalue of 0.0000001\n",
    "\n",
    "\n",
    "\"\"\""
   ]
  },
  {
   "cell_type": "markdown",
   "id": "85f5374d",
   "metadata": {},
   "source": [
    "# Code"
   ]
  },
  {
   "cell_type": "code",
   "execution_count": 1,
   "id": "c55df140",
   "metadata": {},
   "outputs": [],
   "source": [
    "import pandas as pd\n",
    "import matplotlib.pyplot as plt\n",
    "%matplotlib inline"
   ]
  },
  {
   "cell_type": "code",
   "execution_count": 2,
   "id": "c53c67b6",
   "metadata": {},
   "outputs": [],
   "source": [
    "mouse = pd.read_csv(\"data/Mouse_metadata.csv\")\n",
    "study = pd.read_csv(\"data/Study_results.csv\")"
   ]
  },
  {
   "cell_type": "code",
   "execution_count": 3,
   "id": "84a190d0",
   "metadata": {},
   "outputs": [
    {
     "data": {
      "text/html": [
       "<div>\n",
       "<style scoped>\n",
       "    .dataframe tbody tr th:only-of-type {\n",
       "        vertical-align: middle;\n",
       "    }\n",
       "\n",
       "    .dataframe tbody tr th {\n",
       "        vertical-align: top;\n",
       "    }\n",
       "\n",
       "    .dataframe thead th {\n",
       "        text-align: right;\n",
       "    }\n",
       "</style>\n",
       "<table border=\"1\" class=\"dataframe\">\n",
       "  <thead>\n",
       "    <tr style=\"text-align: right;\">\n",
       "      <th></th>\n",
       "      <th>Mouse ID</th>\n",
       "      <th>Drug Regimen</th>\n",
       "      <th>Sex</th>\n",
       "      <th>Age_months</th>\n",
       "      <th>Weight (g)</th>\n",
       "      <th>Timepoint</th>\n",
       "      <th>Tumor Volume (mm3)</th>\n",
       "      <th>Metastatic Sites</th>\n",
       "    </tr>\n",
       "  </thead>\n",
       "  <tbody>\n",
       "    <tr>\n",
       "      <th>0</th>\n",
       "      <td>k403</td>\n",
       "      <td>Ramicane</td>\n",
       "      <td>Male</td>\n",
       "      <td>21</td>\n",
       "      <td>16</td>\n",
       "      <td>0</td>\n",
       "      <td>45.000000</td>\n",
       "      <td>0</td>\n",
       "    </tr>\n",
       "    <tr>\n",
       "      <th>1</th>\n",
       "      <td>k403</td>\n",
       "      <td>Ramicane</td>\n",
       "      <td>Male</td>\n",
       "      <td>21</td>\n",
       "      <td>16</td>\n",
       "      <td>5</td>\n",
       "      <td>38.825898</td>\n",
       "      <td>0</td>\n",
       "    </tr>\n",
       "    <tr>\n",
       "      <th>2</th>\n",
       "      <td>k403</td>\n",
       "      <td>Ramicane</td>\n",
       "      <td>Male</td>\n",
       "      <td>21</td>\n",
       "      <td>16</td>\n",
       "      <td>10</td>\n",
       "      <td>35.014271</td>\n",
       "      <td>1</td>\n",
       "    </tr>\n",
       "    <tr>\n",
       "      <th>3</th>\n",
       "      <td>k403</td>\n",
       "      <td>Ramicane</td>\n",
       "      <td>Male</td>\n",
       "      <td>21</td>\n",
       "      <td>16</td>\n",
       "      <td>15</td>\n",
       "      <td>34.223992</td>\n",
       "      <td>1</td>\n",
       "    </tr>\n",
       "    <tr>\n",
       "      <th>4</th>\n",
       "      <td>k403</td>\n",
       "      <td>Ramicane</td>\n",
       "      <td>Male</td>\n",
       "      <td>21</td>\n",
       "      <td>16</td>\n",
       "      <td>20</td>\n",
       "      <td>32.997729</td>\n",
       "      <td>1</td>\n",
       "    </tr>\n",
       "    <tr>\n",
       "      <th>...</th>\n",
       "      <td>...</td>\n",
       "      <td>...</td>\n",
       "      <td>...</td>\n",
       "      <td>...</td>\n",
       "      <td>...</td>\n",
       "      <td>...</td>\n",
       "      <td>...</td>\n",
       "      <td>...</td>\n",
       "    </tr>\n",
       "    <tr>\n",
       "      <th>1888</th>\n",
       "      <td>z969</td>\n",
       "      <td>Naftisol</td>\n",
       "      <td>Male</td>\n",
       "      <td>9</td>\n",
       "      <td>30</td>\n",
       "      <td>25</td>\n",
       "      <td>63.145652</td>\n",
       "      <td>2</td>\n",
       "    </tr>\n",
       "    <tr>\n",
       "      <th>1889</th>\n",
       "      <td>z969</td>\n",
       "      <td>Naftisol</td>\n",
       "      <td>Male</td>\n",
       "      <td>9</td>\n",
       "      <td>30</td>\n",
       "      <td>30</td>\n",
       "      <td>65.841013</td>\n",
       "      <td>3</td>\n",
       "    </tr>\n",
       "    <tr>\n",
       "      <th>1890</th>\n",
       "      <td>z969</td>\n",
       "      <td>Naftisol</td>\n",
       "      <td>Male</td>\n",
       "      <td>9</td>\n",
       "      <td>30</td>\n",
       "      <td>35</td>\n",
       "      <td>69.176246</td>\n",
       "      <td>4</td>\n",
       "    </tr>\n",
       "    <tr>\n",
       "      <th>1891</th>\n",
       "      <td>z969</td>\n",
       "      <td>Naftisol</td>\n",
       "      <td>Male</td>\n",
       "      <td>9</td>\n",
       "      <td>30</td>\n",
       "      <td>40</td>\n",
       "      <td>70.314904</td>\n",
       "      <td>4</td>\n",
       "    </tr>\n",
       "    <tr>\n",
       "      <th>1892</th>\n",
       "      <td>z969</td>\n",
       "      <td>Naftisol</td>\n",
       "      <td>Male</td>\n",
       "      <td>9</td>\n",
       "      <td>30</td>\n",
       "      <td>45</td>\n",
       "      <td>73.867845</td>\n",
       "      <td>4</td>\n",
       "    </tr>\n",
       "  </tbody>\n",
       "</table>\n",
       "<p>1893 rows × 8 columns</p>\n",
       "</div>"
      ],
      "text/plain": [
       "     Mouse ID Drug Regimen   Sex  Age_months  Weight (g)  Timepoint  \\\n",
       "0        k403     Ramicane  Male          21          16          0   \n",
       "1        k403     Ramicane  Male          21          16          5   \n",
       "2        k403     Ramicane  Male          21          16         10   \n",
       "3        k403     Ramicane  Male          21          16         15   \n",
       "4        k403     Ramicane  Male          21          16         20   \n",
       "...       ...          ...   ...         ...         ...        ...   \n",
       "1888     z969     Naftisol  Male           9          30         25   \n",
       "1889     z969     Naftisol  Male           9          30         30   \n",
       "1890     z969     Naftisol  Male           9          30         35   \n",
       "1891     z969     Naftisol  Male           9          30         40   \n",
       "1892     z969     Naftisol  Male           9          30         45   \n",
       "\n",
       "      Tumor Volume (mm3)  Metastatic Sites  \n",
       "0              45.000000                 0  \n",
       "1              38.825898                 0  \n",
       "2              35.014271                 1  \n",
       "3              34.223992                 1  \n",
       "4              32.997729                 1  \n",
       "...                  ...               ...  \n",
       "1888           63.145652                 2  \n",
       "1889           65.841013                 3  \n",
       "1890           69.176246                 4  \n",
       "1891           70.314904                 4  \n",
       "1892           73.867845                 4  \n",
       "\n",
       "[1893 rows x 8 columns]"
      ]
     },
     "execution_count": 3,
     "metadata": {},
     "output_type": "execute_result"
    }
   ],
   "source": [
    "# The datasets are merged into a single DataFrame\n",
    "mouse_study = pd.merge(mouse,study)\n",
    "mouse_study"
   ]
  },
  {
   "cell_type": "code",
   "execution_count": 4,
   "id": "d2d85193",
   "metadata": {},
   "outputs": [
    {
     "data": {
      "text/plain": [
       "249"
      ]
     },
     "execution_count": 4,
     "metadata": {},
     "output_type": "execute_result"
    }
   ],
   "source": [
    "# The number of mice are shown from the merged DataFrame.\n",
    "mouse_study[\"Mouse ID\"].nunique()"
   ]
  },
  {
   "cell_type": "code",
   "execution_count": 5,
   "id": "877f59e0",
   "metadata": {},
   "outputs": [
    {
     "data": {
      "text/plain": [
       "array(['g989'], dtype=object)"
      ]
     },
     "execution_count": 5,
     "metadata": {},
     "output_type": "execute_result"
    }
   ],
   "source": [
    "# Each duplicate mice is found based on the Mouse ID and Timepoint.\n",
    "mouse_study[mouse_study.duplicated([\"Mouse ID\",\"Timepoint\"])][\"Mouse ID\"].unique()"
   ]
  },
  {
   "cell_type": "code",
   "execution_count": 6,
   "id": "26864467",
   "metadata": {
    "scrolled": true
   },
   "outputs": [],
   "source": [
    "# A clean DataFrame is created with the dropped duplicate mice.\n",
    "clean_study = mouse_study.drop(mouse_study[mouse_study[\"Mouse ID\"]==\"g989\"].index)"
   ]
  },
  {
   "cell_type": "code",
   "execution_count": 7,
   "id": "22f3655d",
   "metadata": {},
   "outputs": [
    {
     "data": {
      "text/plain": [
       "248"
      ]
     },
     "execution_count": 7,
     "metadata": {},
     "output_type": "execute_result"
    }
   ],
   "source": [
    "# The number of mice are shown from the clean DataFrame\n",
    "clean_study[\"Mouse ID\"].nunique()"
   ]
  },
  {
   "cell_type": "code",
   "execution_count": 8,
   "id": "e9e6134f",
   "metadata": {},
   "outputs": [],
   "source": [
    "# The mean of the tumor volume for each regimen\n",
    "mean = clean_study.groupby(\"Drug Regimen\")[\"Tumor Volume (mm3)\"].mean()"
   ]
  },
  {
   "cell_type": "code",
   "execution_count": 9,
   "id": "f79e3998",
   "metadata": {},
   "outputs": [],
   "source": [
    "# The media of the tumor volume for each regimen\n",
    "median = clean_study.groupby(\"Drug Regimen\")[\"Tumor Volume (mm3)\"].median()"
   ]
  },
  {
   "cell_type": "code",
   "execution_count": 10,
   "id": "d3b3cb98",
   "metadata": {},
   "outputs": [],
   "source": [
    "# The variance of the tumor volume for each regimen\n",
    "var = clean_study.groupby(\"Drug Regimen\")[\"Tumor Volume (mm3)\"].var()"
   ]
  },
  {
   "cell_type": "code",
   "execution_count": 11,
   "id": "b098b5ed",
   "metadata": {},
   "outputs": [],
   "source": [
    "# The standard deviation of the tumor volume for each regimen\n",
    "std = clean_study.groupby(\"Drug Regimen\")[\"Tumor Volume (mm3)\"].std()"
   ]
  },
  {
   "cell_type": "code",
   "execution_count": 12,
   "id": "a0aa11e4",
   "metadata": {},
   "outputs": [],
   "source": [
    "# The SEM of the tumor volume for each regimen\n",
    "sem = clean_study.groupby(\"Drug Regimen\")[\"Tumor Volume (mm3)\"].sem()"
   ]
  },
  {
   "cell_type": "code",
   "execution_count": 13,
   "id": "19135e0e",
   "metadata": {},
   "outputs": [
    {
     "data": {
      "text/html": [
       "<div>\n",
       "<style scoped>\n",
       "    .dataframe tbody tr th:only-of-type {\n",
       "        vertical-align: middle;\n",
       "    }\n",
       "\n",
       "    .dataframe tbody tr th {\n",
       "        vertical-align: top;\n",
       "    }\n",
       "\n",
       "    .dataframe thead th {\n",
       "        text-align: right;\n",
       "    }\n",
       "</style>\n",
       "<table border=\"1\" class=\"dataframe\">\n",
       "  <thead>\n",
       "    <tr style=\"text-align: right;\">\n",
       "      <th></th>\n",
       "      <th>mean</th>\n",
       "      <th>median</th>\n",
       "      <th>variance</th>\n",
       "      <th>standard deviation</th>\n",
       "      <th>standard error of mean</th>\n",
       "    </tr>\n",
       "    <tr>\n",
       "      <th>Drug Regimen</th>\n",
       "      <th></th>\n",
       "      <th></th>\n",
       "      <th></th>\n",
       "      <th></th>\n",
       "      <th></th>\n",
       "    </tr>\n",
       "  </thead>\n",
       "  <tbody>\n",
       "    <tr>\n",
       "      <th>Capomulin</th>\n",
       "      <td>40.675741</td>\n",
       "      <td>41.557809</td>\n",
       "      <td>24.947764</td>\n",
       "      <td>4.994774</td>\n",
       "      <td>0.329346</td>\n",
       "    </tr>\n",
       "    <tr>\n",
       "      <th>Ceftamin</th>\n",
       "      <td>52.591172</td>\n",
       "      <td>51.776157</td>\n",
       "      <td>39.290177</td>\n",
       "      <td>6.268188</td>\n",
       "      <td>0.469821</td>\n",
       "    </tr>\n",
       "    <tr>\n",
       "      <th>Infubinol</th>\n",
       "      <td>52.884795</td>\n",
       "      <td>51.820584</td>\n",
       "      <td>43.128684</td>\n",
       "      <td>6.567243</td>\n",
       "      <td>0.492236</td>\n",
       "    </tr>\n",
       "    <tr>\n",
       "      <th>Ketapril</th>\n",
       "      <td>55.235638</td>\n",
       "      <td>53.698743</td>\n",
       "      <td>68.553577</td>\n",
       "      <td>8.279709</td>\n",
       "      <td>0.603860</td>\n",
       "    </tr>\n",
       "    <tr>\n",
       "      <th>Naftisol</th>\n",
       "      <td>54.331565</td>\n",
       "      <td>52.509285</td>\n",
       "      <td>66.173479</td>\n",
       "      <td>8.134708</td>\n",
       "      <td>0.596466</td>\n",
       "    </tr>\n",
       "    <tr>\n",
       "      <th>Placebo</th>\n",
       "      <td>54.033581</td>\n",
       "      <td>52.288934</td>\n",
       "      <td>61.168083</td>\n",
       "      <td>7.821003</td>\n",
       "      <td>0.581331</td>\n",
       "    </tr>\n",
       "    <tr>\n",
       "      <th>Propriva</th>\n",
       "      <td>52.320930</td>\n",
       "      <td>50.446266</td>\n",
       "      <td>43.852013</td>\n",
       "      <td>6.622085</td>\n",
       "      <td>0.544332</td>\n",
       "    </tr>\n",
       "    <tr>\n",
       "      <th>Ramicane</th>\n",
       "      <td>40.216745</td>\n",
       "      <td>40.673236</td>\n",
       "      <td>23.486704</td>\n",
       "      <td>4.846308</td>\n",
       "      <td>0.320955</td>\n",
       "    </tr>\n",
       "    <tr>\n",
       "      <th>Stelasyn</th>\n",
       "      <td>54.233149</td>\n",
       "      <td>52.431737</td>\n",
       "      <td>59.450562</td>\n",
       "      <td>7.710419</td>\n",
       "      <td>0.573111</td>\n",
       "    </tr>\n",
       "    <tr>\n",
       "      <th>Zoniferol</th>\n",
       "      <td>53.236507</td>\n",
       "      <td>51.818479</td>\n",
       "      <td>48.533355</td>\n",
       "      <td>6.966589</td>\n",
       "      <td>0.516398</td>\n",
       "    </tr>\n",
       "  </tbody>\n",
       "</table>\n",
       "</div>"
      ],
      "text/plain": [
       "                   mean     median   variance  standard deviation  \\\n",
       "Drug Regimen                                                        \n",
       "Capomulin     40.675741  41.557809  24.947764            4.994774   \n",
       "Ceftamin      52.591172  51.776157  39.290177            6.268188   \n",
       "Infubinol     52.884795  51.820584  43.128684            6.567243   \n",
       "Ketapril      55.235638  53.698743  68.553577            8.279709   \n",
       "Naftisol      54.331565  52.509285  66.173479            8.134708   \n",
       "Placebo       54.033581  52.288934  61.168083            7.821003   \n",
       "Propriva      52.320930  50.446266  43.852013            6.622085   \n",
       "Ramicane      40.216745  40.673236  23.486704            4.846308   \n",
       "Stelasyn      54.233149  52.431737  59.450562            7.710419   \n",
       "Zoniferol     53.236507  51.818479  48.533355            6.966589   \n",
       "\n",
       "              standard error of mean  \n",
       "Drug Regimen                          \n",
       "Capomulin                   0.329346  \n",
       "Ceftamin                    0.469821  \n",
       "Infubinol                   0.492236  \n",
       "Ketapril                    0.603860  \n",
       "Naftisol                    0.596466  \n",
       "Placebo                     0.581331  \n",
       "Propriva                    0.544332  \n",
       "Ramicane                    0.320955  \n",
       "Stelasyn                    0.573111  \n",
       "Zoniferol                   0.516398  "
      ]
     },
     "execution_count": 13,
     "metadata": {},
     "output_type": "execute_result"
    }
   ],
   "source": [
    "# A new DataFrame is created with using the summary statistics\n",
    "stats = pd.DataFrame({\"mean\":mean,\"median\":median,\"variance\":var,\"standard deviation\":std,\"standard error of mean\":sem})\n",
    "stats"
   ]
  },
  {
   "cell_type": "markdown",
   "id": "7aff22b8",
   "metadata": {},
   "source": [
    "# bar charts and pie charts"
   ]
  },
  {
   "cell_type": "code",
   "execution_count": 14,
   "id": "3d352cd3",
   "metadata": {},
   "outputs": [
    {
     "data": {
      "image/png": "[encoded data removed]",
      "text/plain": [
       "<Figure size 640x480 with 1 Axes>"
      ]
     },
     "metadata": {},
     "output_type": "display_data"
    }
   ],
   "source": [
    "clean_study.groupby(\"Drug Regimen\")[\"Timepoint\"].sum().plot.bar()\n",
    "plt.show()"
   ]
  },
  {
   "cell_type": "code",
   "execution_count": 15,
   "id": "1de2504e",
   "metadata": {},
   "outputs": [
    {
     "data": {
      "image/png": "[encoded data removed]",
      "text/plain": [
       "<Figure size 640x480 with 1 Axes>"
      ]
     },
     "metadata": {},
     "output_type": "display_data"
    }
   ],
   "source": [
    "plt.bar(clean_study[\"Drug Regimen\"].unique(),clean_study.groupby(\"Drug Regimen\")[\"Timepoint\"].sum())\n",
    "plt.xticks(rotation = 45)\n",
    "plt.show()"
   ]
  },
  {
   "cell_type": "code",
   "execution_count": 16,
   "id": "ec61ba2c",
   "metadata": {},
   "outputs": [
    {
     "data": {
      "image/png": "[encoded data removed]",
      "text/plain": [
       "<Figure size 640x480 with 1 Axes>"
      ]
     },
     "metadata": {},
     "output_type": "display_data"
    }
   ],
   "source": [
    "clean_study[\"Sex\"].value_counts().plot.pie()\n",
    "plt.show()"
   ]
  },
  {
   "cell_type": "code",
   "execution_count": 17,
   "id": "6eba01b9",
   "metadata": {},
   "outputs": [
    {
     "data": {
      "image/png": "[encoded data removed]",
      "text/plain": [
       "<Figure size 640x480 with 1 Axes>"
      ]
     },
     "metadata": {},
     "output_type": "display_data"
    }
   ],
   "source": [
    "plt.pie(clean_study[\"Sex\"].value_counts(),labels=[\"Male\",\"Female\"])\n",
    "plt.title(\"Sex\")\n",
    "plt.show()\n"
   ]
  },
  {
   "cell_type": "markdown",
   "id": "d0c5844e",
   "metadata": {},
   "source": [
    "# quartiles, outliers and boxplot"
   ]
  },
  {
   "cell_type": "code",
   "execution_count": 40,
   "id": "c5178aab",
   "metadata": {},
   "outputs": [
    {
     "data": {
      "text/html": [
       "<div>\n",
       "<style scoped>\n",
       "    .dataframe tbody tr th:only-of-type {\n",
       "        vertical-align: middle;\n",
       "    }\n",
       "\n",
       "    .dataframe tbody tr th {\n",
       "        vertical-align: top;\n",
       "    }\n",
       "\n",
       "    .dataframe thead th {\n",
       "        text-align: right;\n",
       "    }\n",
       "</style>\n",
       "<table border=\"1\" class=\"dataframe\">\n",
       "  <thead>\n",
       "    <tr style=\"text-align: right;\">\n",
       "      <th></th>\n",
       "      <th>Age_months</th>\n",
       "      <th>Weight (g)</th>\n",
       "      <th>Timepoint</th>\n",
       "      <th>Tumor Volume (mm3)</th>\n",
       "      <th>Metastatic Sites</th>\n",
       "      <th>Drug Regimen</th>\n",
       "      <th>Sex</th>\n",
       "    </tr>\n",
       "    <tr>\n",
       "      <th>Mouse ID</th>\n",
       "      <th></th>\n",
       "      <th></th>\n",
       "      <th></th>\n",
       "      <th></th>\n",
       "      <th></th>\n",
       "      <th></th>\n",
       "      <th></th>\n",
       "    </tr>\n",
       "  </thead>\n",
       "  <tbody>\n",
       "    <tr>\n",
       "      <th>k403</th>\n",
       "      <td>21</td>\n",
       "      <td>16</td>\n",
       "      <td>0</td>\n",
       "      <td>45.000000</td>\n",
       "      <td>0</td>\n",
       "      <td>Ramicane</td>\n",
       "      <td>Male</td>\n",
       "    </tr>\n",
       "    <tr>\n",
       "      <th>k403</th>\n",
       "      <td>21</td>\n",
       "      <td>16</td>\n",
       "      <td>5</td>\n",
       "      <td>38.825898</td>\n",
       "      <td>0</td>\n",
       "      <td>Ramicane</td>\n",
       "      <td>Male</td>\n",
       "    </tr>\n",
       "    <tr>\n",
       "      <th>k403</th>\n",
       "      <td>21</td>\n",
       "      <td>16</td>\n",
       "      <td>10</td>\n",
       "      <td>35.014271</td>\n",
       "      <td>1</td>\n",
       "      <td>Ramicane</td>\n",
       "      <td>Male</td>\n",
       "    </tr>\n",
       "    <tr>\n",
       "      <th>k403</th>\n",
       "      <td>21</td>\n",
       "      <td>16</td>\n",
       "      <td>15</td>\n",
       "      <td>34.223992</td>\n",
       "      <td>1</td>\n",
       "      <td>Ramicane</td>\n",
       "      <td>Male</td>\n",
       "    </tr>\n",
       "    <tr>\n",
       "      <th>k403</th>\n",
       "      <td>21</td>\n",
       "      <td>16</td>\n",
       "      <td>20</td>\n",
       "      <td>32.997729</td>\n",
       "      <td>1</td>\n",
       "      <td>Ramicane</td>\n",
       "      <td>Male</td>\n",
       "    </tr>\n",
       "    <tr>\n",
       "      <th>...</th>\n",
       "      <td>...</td>\n",
       "      <td>...</td>\n",
       "      <td>...</td>\n",
       "      <td>...</td>\n",
       "      <td>...</td>\n",
       "      <td>...</td>\n",
       "      <td>...</td>\n",
       "    </tr>\n",
       "    <tr>\n",
       "      <th>z969</th>\n",
       "      <td>9</td>\n",
       "      <td>30</td>\n",
       "      <td>25</td>\n",
       "      <td>63.145652</td>\n",
       "      <td>2</td>\n",
       "      <td>Naftisol</td>\n",
       "      <td>Male</td>\n",
       "    </tr>\n",
       "    <tr>\n",
       "      <th>z969</th>\n",
       "      <td>9</td>\n",
       "      <td>30</td>\n",
       "      <td>30</td>\n",
       "      <td>65.841013</td>\n",
       "      <td>3</td>\n",
       "      <td>Naftisol</td>\n",
       "      <td>Male</td>\n",
       "    </tr>\n",
       "    <tr>\n",
       "      <th>z969</th>\n",
       "      <td>9</td>\n",
       "      <td>30</td>\n",
       "      <td>35</td>\n",
       "      <td>69.176246</td>\n",
       "      <td>4</td>\n",
       "      <td>Naftisol</td>\n",
       "      <td>Male</td>\n",
       "    </tr>\n",
       "    <tr>\n",
       "      <th>z969</th>\n",
       "      <td>9</td>\n",
       "      <td>30</td>\n",
       "      <td>40</td>\n",
       "      <td>70.314904</td>\n",
       "      <td>4</td>\n",
       "      <td>Naftisol</td>\n",
       "      <td>Male</td>\n",
       "    </tr>\n",
       "    <tr>\n",
       "      <th>z969</th>\n",
       "      <td>9</td>\n",
       "      <td>30</td>\n",
       "      <td>45</td>\n",
       "      <td>73.867845</td>\n",
       "      <td>4</td>\n",
       "      <td>Naftisol</td>\n",
       "      <td>Male</td>\n",
       "    </tr>\n",
       "  </tbody>\n",
       "</table>\n",
       "<p>1880 rows × 7 columns</p>\n",
       "</div>"
      ],
      "text/plain": [
       "          Age_months  Weight (g)  Timepoint  Tumor Volume (mm3)  \\\n",
       "Mouse ID                                                          \n",
       "k403              21          16          0           45.000000   \n",
       "k403              21          16          5           38.825898   \n",
       "k403              21          16         10           35.014271   \n",
       "k403              21          16         15           34.223992   \n",
       "k403              21          16         20           32.997729   \n",
       "...              ...         ...        ...                 ...   \n",
       "z969               9          30         25           63.145652   \n",
       "z969               9          30         30           65.841013   \n",
       "z969               9          30         35           69.176246   \n",
       "z969               9          30         40           70.314904   \n",
       "z969               9          30         45           73.867845   \n",
       "\n",
       "          Metastatic Sites Drug Regimen   Sex  \n",
       "Mouse ID                                       \n",
       "k403                     0     Ramicane  Male  \n",
       "k403                     0     Ramicane  Male  \n",
       "k403                     1     Ramicane  Male  \n",
       "k403                     1     Ramicane  Male  \n",
       "k403                     1     Ramicane  Male  \n",
       "...                    ...          ...   ...  \n",
       "z969                     2     Naftisol  Male  \n",
       "z969                     3     Naftisol  Male  \n",
       "z969                     4     Naftisol  Male  \n",
       "z969                     4     Naftisol  Male  \n",
       "z969                     4     Naftisol  Male  \n",
       "\n",
       "[1880 rows x 7 columns]"
      ]
     },
     "execution_count": 40,
     "metadata": {},
     "output_type": "execute_result"
    }
   ],
   "source": [
    "# A DatFrame that has the last timepoint for each mouse ID is created\n",
    "max_tumor = clean_study.groupby(\"Mouse ID\").max(\"Timepoint\")\n",
    "max_tumor_w_drug = pd.concat([max_tumor,clean_study])\n",
    "\n",
    "# The index of the DataFrame is reset\n",
    "max_tumor_w_drug.set_index(\"Mouse ID\",inplace=True)\n",
    "max_tumor_w_drug.dropna(inplace = True)\n",
    "max_tumor_w_drug\n"
   ]
  },
  {
   "cell_type": "code",
   "execution_count": 41,
   "id": "0d0c8ed1",
   "metadata": {},
   "outputs": [
    {
     "data": {
      "text/plain": [
       "Mouse ID\n",
       "k403     0\n",
       "k403     5\n",
       "k403    10\n",
       "k403    15\n",
       "k403    20\n",
       "        ..\n",
       "z969    25\n",
       "z969    30\n",
       "z969    35\n",
       "z969    40\n",
       "z969    45\n",
       "Name: Timepoint, Length: 1880, dtype: int64"
      ]
     },
     "execution_count": 41,
     "metadata": {},
     "output_type": "execute_result"
    }
   ],
   "source": [
    "# Retrieve the maximum timepoint for each mouse.\n",
    "max_tumor_w_drug[\"Timepoint\"]"
   ]
  },
  {
   "cell_type": "code",
   "execution_count": 42,
   "id": "b0b7b41c",
   "metadata": {},
   "outputs": [],
   "source": [
    "# The four treatment groups, Capomulin, Ramicane, Infubinol, and Ceftamin, are put in a list.\n",
    "# An empty list is created to fill with tumor volume data.\n",
    "drugs = [\"Capomulin\", \"Ramicane\", \"Infubinol\", \"Ceftamin\"]\n",
    "tumor_volume = []"
   ]
  },
  {
   "cell_type": "code",
   "execution_count": 46,
   "id": "f48ba5e4",
   "metadata": {},
   "outputs": [],
   "source": [
    "cap_tum_quan = max_tumor_w_drug[max_tumor_w_drug[\"Drug Regimen\"] == \"Capomulin\"][\"Tumor Volume (mm3)\"]\n",
    "ram_tum_quan = max_tumor_w_drug[max_tumor_w_drug[\"Drug Regimen\"] == \"Ramicane\"][\"Tumor Volume (mm3)\"]\n",
    "inf_tum_quan = max_tumor_w_drug[max_tumor_w_drug[\"Drug Regimen\"] == \"Infubinol\"][\"Tumor Volume (mm3)\"]\n",
    "cef_tum_quan = max_tumor_w_drug[max_tumor_w_drug[\"Drug Regimen\"] == \"Ceftamin\"][\"Tumor Volume (mm3)\"]"
   ]
  },
  {
   "cell_type": "code",
   "execution_count": 51,
   "id": "336530d6",
   "metadata": {},
   "outputs": [
    {
     "data": {
      "image/png": "[encoded data removed]",
      "text/plain": [
       "<Figure size 640x480 with 1 Axes>"
      ]
     },
     "metadata": {},
     "output_type": "display_data"
    }
   ],
   "source": [
    "plt.boxplot([cap_tum_quan,ram_tum_quan,inf_tum_quan,cef_tum_quan], flierprops = dict(marker = \"s\", markerfacecolor = \"red\"))\n",
    "plt.xticks([1,2,3,4], drugs)\n",
    "plt.show()"
   ]
  },
  {
   "cell_type": "code",
   "execution_count": 81,
   "id": "937ed145",
   "metadata": {},
   "outputs": [
    {
     "data": {
      "image/png": "[encoded data removed]",
      "text/plain": [
       "<Figure size 640x480 with 1 Axes>"
      ]
     },
     "metadata": {},
     "output_type": "display_data"
    }
   ],
   "source": [
    "# A line plot is generated that shows the tumor volume vs. time point for one mouse treated with Capomulin.\n",
    "one_mouse = clean_study[clean_study[\"Mouse ID\"]==\"s185\"]\n",
    "\n",
    "plt.plot(one_mouse[\"Timepoint\"],one_mouse[\"Tumor Volume (mm3)\"])\n",
    "plt.title(\"Mouse(s185) Tumor size by timepoint\")\n",
    "plt.xlabel(\"Timepoint\")\n",
    "plt.ylabel(\"Tumor size\")\n",
    "plt.show()"
   ]
  },
  {
   "cell_type": "code",
   "execution_count": 92,
   "id": "dac1c2ef",
   "metadata": {},
   "outputs": [
    {
     "data": {
      "text/plain": [
       "Text(0.5, 1.0, 'Average Tumor volume vs weight(Capomulin)')"
      ]
     },
     "execution_count": 92,
     "metadata": {},
     "output_type": "execute_result"
    },
    {
     "data": {
      "image/png": "[encoded data removed]",
      "text/plain": [
       "<Figure size 640x480 with 1 Axes>"
      ]
     },
     "metadata": {},
     "output_type": "display_data"
    }
   ],
   "source": [
    "cap_study = clean_study[clean_study[\"Drug Regimen\"] == \"Capomulin\"]\n",
    "cap_study.groupby(\"Mouse ID\")[\"Tumor Volume (mm3)\"].mean()\n",
    "cap_study.groupby(\"Mouse ID\")[\"Weight (g)\"].mean()\n",
    "\n",
    "plt.scatter(cap_study.groupby(\"Mouse ID\")[\"Tumor Volume (mm3)\"].mean(),cap_study.groupby(\"Mouse ID\")[\"Weight (g)\"].mean())\n",
    "plt.xlabel(\"Tumor volume\")\n",
    "plt.ylabel(\"Weight\")\n",
    "plt.title(\"Average Tumor volume vs weight(Capomulin)\")"
   ]
  },
  {
   "cell_type": "code",
   "execution_count": 93,
   "id": "0c42bbaf",
   "metadata": {},
   "outputs": [],
   "source": [
    "import scipy.stats as st"
   ]
  },
  {
   "cell_type": "code",
   "execution_count": 97,
   "id": "37b14284",
   "metadata": {},
   "outputs": [],
   "source": [
    "regression = st.linregress(cap_study.groupby(\"Mouse ID\")[\"Tumor Volume (mm3)\"].mean(),cap_study.groupby(\"Mouse ID\")[\"Weight (g)\"].mean())\n",
    "correlation_coefficient = st.pearsonr(cap_study.groupby(\"Mouse ID\")[\"Tumor Volume (mm3)\"].mean(),cap_study.groupby(\"Mouse ID\")[\"Weight (g)\"].mean())"
   ]
  },
  {
   "cell_type": "code",
   "execution_count": 100,
   "id": "e4ae6b68",
   "metadata": {},
   "outputs": [
    {
     "name": "stdout",
     "output_type": "stream",
     "text": [
      "LinregressResult(slope=0.7426941826944183, intercept=-10.148863164111344, rvalue=0.8419363424694721, pvalue=1.3225722434712404e-07, stderr=0.09924763572688555, intercept_stderr=4.05717469676088)\n",
      "PearsonRResult(statistic=0.8419363424694719, pvalue=1.3225722434712586e-07)\n"
     ]
    }
   ],
   "source": [
    "print(regression)\n",
    "print(correlation_coefficient)"
   ]
  },
  {
   "cell_type": "code",
   "execution_count": null,
   "id": "04c33622",
   "metadata": {},
   "outputs": [],
   "source": []
  }
 ],
 "metadata": {
  "kernelspec": {
   "display_name": "Python 3 (ipykernel)",
   "language": "python",
   "name": "python3"
  },
  "language_info": {
   "codemirror_mode": {
    "name": "ipython",
    "version": 3
   },
   "file_extension": ".py",
   "mimetype": "text/x-python",
   "name": "python",
   "nbconvert_exporter": "python",
   "pygments_lexer": "ipython3",
   "version": "3.10.9"
  }
 },
 "nbformat": 4,
 "nbformat_minor": 5
}
